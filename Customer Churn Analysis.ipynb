{
 "cells": [
  {
   "cell_type": "code",
   "execution_count": 1,
   "id": "b5619900",
   "metadata": {},
   "outputs": [],
   "source": [
    "import pandas as pd\n",
    "import numpy as np\n",
    "import matplotlib.pyplot as plt\n",
    "import seaborn as sns\n",
    "from sklearn.model_selection import train_test_split\n",
    "from sklearn.preprocessing import LabelEncoder, StandardScaler\n",
    "from sklearn.ensemble import RandomForestClassifier\n",
    "from sklearn.metrics import accuracy_score, classification_report, confusion_matrix\n",
    "\n"
   ]
  },
  {
   "cell_type": "code",
   "execution_count": 2,
   "id": "d5a87bf0",
   "metadata": {},
   "outputs": [],
   "source": [
    "# Step 1: Creating Dataset"
   ]
  },
  {
   "cell_type": "code",
   "execution_count": 3,
   "id": "4ed65d63",
   "metadata": {},
   "outputs": [],
   "source": [
    "np.random.seed(42)"
   ]
  },
  {
   "cell_type": "code",
   "execution_count": 4,
   "id": "57c3d70d",
   "metadata": {},
   "outputs": [],
   "source": [
    "countries = ['USA', 'UK', 'Germany', 'France', 'India', 'Japan', 'Canada', 'Australia', 'Brazil', 'South Africa']"
   ]
  },
  {
   "cell_type": "code",
   "execution_count": 5,
   "id": "b352433c",
   "metadata": {},
   "outputs": [],
   "source": [
    "data = {\n",
    "    'CustomerID': np.arange(1, 101),\n",
    "    'Age': np.random.randint(18, 80, 100),\n",
    "    'MonthlySubscription': np.random.uniform(10, 500, 100),\n",
    "    'TotalSpending': np.random.uniform(500, 100000, 100),\n",
    "    'SubscriptionLength': np.random.randint(1, 120, 100),\n",
    "    'Country': np.random.choice(countries, 100),\n",
    "    'PaymentMethod': np.random.choice(['Credit Card', 'Bank Transfer', 'Cryptocurrency', 'PayPal'], 100),\n",
    "    'CustomerSatisfaction': np.random.randint(1, 11, 100),\n",
    "    'Churn': np.random.choice(['Yes', 'No'], 100)\n",
    "}\n"
   ]
  },
  {
   "cell_type": "code",
   "execution_count": 6,
   "id": "387ba76e",
   "metadata": {},
   "outputs": [],
   "source": [
    "df = pd.DataFrame(data)"
   ]
  },
  {
   "cell_type": "code",
   "execution_count": 7,
   "id": "24c19992",
   "metadata": {},
   "outputs": [
    {
     "name": "stdout",
     "output_type": "stream",
     "text": [
      "    CustomerID  Age  MonthlySubscription  TotalSpending  SubscriptionLength  \\\n",
      "0            1   56           203.623616   53327.991040                  33   \n",
      "1            2   69           464.062844   45054.424875                  67   \n",
      "2            3   46           366.363278   55512.862363                  18   \n",
      "3            4   32           170.004977   59473.324026                  25   \n",
      "4            5   60           289.517547    8544.905970                 106   \n",
      "..         ...  ...                  ...            ...                 ...   \n",
      "95          96   46           211.408137   57443.100682                  55   \n",
      "96          97   35            26.194859   98042.992580                  40   \n",
      "97          98   43           179.084912    7996.952473                  52   \n",
      "98          99   61           320.832159   30916.853419                  16   \n",
      "99         100   51           343.545671   19495.647599                  13   \n",
      "\n",
      "         Country   PaymentMethod  CustomerSatisfaction Churn  \n",
      "0             UK     Credit Card                     8   Yes  \n",
      "1   South Africa     Credit Card                    10    No  \n",
      "2        Germany     Credit Card                     9    No  \n",
      "3            USA     Credit Card                     2   Yes  \n",
      "4      Australia          PayPal                    10   Yes  \n",
      "..           ...             ...                   ...   ...  \n",
      "95  South Africa          PayPal                     5    No  \n",
      "96         India     Credit Card                     7    No  \n",
      "97            UK     Credit Card                     8    No  \n",
      "98     Australia   Bank Transfer                     1    No  \n",
      "99        France  Cryptocurrency                     6   Yes  \n",
      "\n",
      "[100 rows x 9 columns]\n"
     ]
    }
   ],
   "source": [
    "print(df)"
   ]
  },
  {
   "cell_type": "code",
   "execution_count": 9,
   "id": "25218252",
   "metadata": {},
   "outputs": [
    {
     "data": {
      "text/plain": [
       "<bound method NDFrame.head of     CustomerID  Age  MonthlySubscription  TotalSpending  SubscriptionLength  \\\n",
       "0            1   56           203.623616   53327.991040                  33   \n",
       "1            2   69           464.062844   45054.424875                  67   \n",
       "2            3   46           366.363278   55512.862363                  18   \n",
       "3            4   32           170.004977   59473.324026                  25   \n",
       "4            5   60           289.517547    8544.905970                 106   \n",
       "..         ...  ...                  ...            ...                 ...   \n",
       "95          96   46           211.408137   57443.100682                  55   \n",
       "96          97   35            26.194859   98042.992580                  40   \n",
       "97          98   43           179.084912    7996.952473                  52   \n",
       "98          99   61           320.832159   30916.853419                  16   \n",
       "99         100   51           343.545671   19495.647599                  13   \n",
       "\n",
       "         Country   PaymentMethod  CustomerSatisfaction Churn  \n",
       "0             UK     Credit Card                     8   Yes  \n",
       "1   South Africa     Credit Card                    10    No  \n",
       "2        Germany     Credit Card                     9    No  \n",
       "3            USA     Credit Card                     2   Yes  \n",
       "4      Australia          PayPal                    10   Yes  \n",
       "..           ...             ...                   ...   ...  \n",
       "95  South Africa          PayPal                     5    No  \n",
       "96         India     Credit Card                     7    No  \n",
       "97            UK     Credit Card                     8    No  \n",
       "98     Australia   Bank Transfer                     1    No  \n",
       "99        France  Cryptocurrency                     6   Yes  \n",
       "\n",
       "[100 rows x 9 columns]>"
      ]
     },
     "execution_count": 9,
     "metadata": {},
     "output_type": "execute_result"
    }
   ],
   "source": [
    "df.head"
   ]
  },
  {
   "cell_type": "code",
   "execution_count": 10,
   "id": "e7b64607",
   "metadata": {},
   "outputs": [],
   "source": [
    "# Step 2: Data Preprocessing"
   ]
  },
  {
   "cell_type": "code",
   "execution_count": 12,
   "id": "3a3a2736",
   "metadata": {},
   "outputs": [],
   "source": [
    "le = LabelEncoder()\n",
    "for col in ['Country', 'PaymentMethod', 'Churn']:\n",
    "        df[col] = le.fit_transform(df[col])\n",
    "\n",
    "\n"
   ]
  },
  {
   "cell_type": "code",
   "execution_count": 13,
   "id": "67e846bc",
   "metadata": {},
   "outputs": [],
   "source": [
    "# Step 3: Feature Engineering"
   ]
  },
  {
   "cell_type": "code",
   "execution_count": 14,
   "id": "5f1cbbab",
   "metadata": {},
   "outputs": [],
   "source": [
    "X = df.drop(columns=['CustomerID', 'Churn'])"
   ]
  },
  {
   "cell_type": "code",
   "execution_count": 15,
   "id": "aca74f2c",
   "metadata": {},
   "outputs": [],
   "source": [
    "y = df['Churn']"
   ]
  },
  {
   "cell_type": "code",
   "execution_count": 16,
   "id": "d0699ab6",
   "metadata": {},
   "outputs": [],
   "source": [
    "# Step 4: Splitting the Data"
   ]
  },
  {
   "cell_type": "code",
   "execution_count": 17,
   "id": "2873a561",
   "metadata": {},
   "outputs": [],
   "source": [
    "X_train, X_test, y_train, y_test = train_test_split(X, y, test_size=0.2, random_state=42)"
   ]
  },
  {
   "cell_type": "code",
   "execution_count": 18,
   "id": "6dc15e4e",
   "metadata": {},
   "outputs": [],
   "source": [
    "# Step 5: Scaling the Data"
   ]
  },
  {
   "cell_type": "code",
   "execution_count": 19,
   "id": "89f12e7f",
   "metadata": {},
   "outputs": [],
   "source": [
    "scaler = StandardScaler()"
   ]
  },
  {
   "cell_type": "code",
   "execution_count": 20,
   "id": "c3f3c15d",
   "metadata": {},
   "outputs": [],
   "source": [
    "X_train = scaler.fit_transform(X_train)"
   ]
  },
  {
   "cell_type": "code",
   "execution_count": 21,
   "id": "cacca94d",
   "metadata": {},
   "outputs": [],
   "source": [
    "X_test = scaler.transform(X_test)"
   ]
  },
  {
   "cell_type": "code",
   "execution_count": 22,
   "id": "52811f8b",
   "metadata": {},
   "outputs": [],
   "source": [
    "# Step 6: Training the Model"
   ]
  },
  {
   "cell_type": "code",
   "execution_count": 23,
   "id": "1be12247",
   "metadata": {},
   "outputs": [],
   "source": [
    "model = RandomForestClassifier(n_estimators=150, random_state=42, max_depth=10)"
   ]
  },
  {
   "cell_type": "code",
   "execution_count": 24,
   "id": "5bd755ee",
   "metadata": {},
   "outputs": [
    {
     "data": {
      "text/html": [
       "<style>#sk-container-id-1 {color: black;}#sk-container-id-1 pre{padding: 0;}#sk-container-id-1 div.sk-toggleable {background-color: white;}#sk-container-id-1 label.sk-toggleable__label {cursor: pointer;display: block;width: 100%;margin-bottom: 0;padding: 0.3em;box-sizing: border-box;text-align: center;}#sk-container-id-1 label.sk-toggleable__label-arrow:before {content: \"▸\";float: left;margin-right: 0.25em;color: #696969;}#sk-container-id-1 label.sk-toggleable__label-arrow:hover:before {color: black;}#sk-container-id-1 div.sk-estimator:hover label.sk-toggleable__label-arrow:before {color: black;}#sk-container-id-1 div.sk-toggleable__content {max-height: 0;max-width: 0;overflow: hidden;text-align: left;background-color: #f0f8ff;}#sk-container-id-1 div.sk-toggleable__content pre {margin: 0.2em;color: black;border-radius: 0.25em;background-color: #f0f8ff;}#sk-container-id-1 input.sk-toggleable__control:checked~div.sk-toggleable__content {max-height: 200px;max-width: 100%;overflow: auto;}#sk-container-id-1 input.sk-toggleable__control:checked~label.sk-toggleable__label-arrow:before {content: \"▾\";}#sk-container-id-1 div.sk-estimator input.sk-toggleable__control:checked~label.sk-toggleable__label {background-color: #d4ebff;}#sk-container-id-1 div.sk-label input.sk-toggleable__control:checked~label.sk-toggleable__label {background-color: #d4ebff;}#sk-container-id-1 input.sk-hidden--visually {border: 0;clip: rect(1px 1px 1px 1px);clip: rect(1px, 1px, 1px, 1px);height: 1px;margin: -1px;overflow: hidden;padding: 0;position: absolute;width: 1px;}#sk-container-id-1 div.sk-estimator {font-family: monospace;background-color: #f0f8ff;border: 1px dotted black;border-radius: 0.25em;box-sizing: border-box;margin-bottom: 0.5em;}#sk-container-id-1 div.sk-estimator:hover {background-color: #d4ebff;}#sk-container-id-1 div.sk-parallel-item::after {content: \"\";width: 100%;border-bottom: 1px solid gray;flex-grow: 1;}#sk-container-id-1 div.sk-label:hover label.sk-toggleable__label {background-color: #d4ebff;}#sk-container-id-1 div.sk-serial::before {content: \"\";position: absolute;border-left: 1px solid gray;box-sizing: border-box;top: 0;bottom: 0;left: 50%;z-index: 0;}#sk-container-id-1 div.sk-serial {display: flex;flex-direction: column;align-items: center;background-color: white;padding-right: 0.2em;padding-left: 0.2em;position: relative;}#sk-container-id-1 div.sk-item {position: relative;z-index: 1;}#sk-container-id-1 div.sk-parallel {display: flex;align-items: stretch;justify-content: center;background-color: white;position: relative;}#sk-container-id-1 div.sk-item::before, #sk-container-id-1 div.sk-parallel-item::before {content: \"\";position: absolute;border-left: 1px solid gray;box-sizing: border-box;top: 0;bottom: 0;left: 50%;z-index: -1;}#sk-container-id-1 div.sk-parallel-item {display: flex;flex-direction: column;z-index: 1;position: relative;background-color: white;}#sk-container-id-1 div.sk-parallel-item:first-child::after {align-self: flex-end;width: 50%;}#sk-container-id-1 div.sk-parallel-item:last-child::after {align-self: flex-start;width: 50%;}#sk-container-id-1 div.sk-parallel-item:only-child::after {width: 0;}#sk-container-id-1 div.sk-dashed-wrapped {border: 1px dashed gray;margin: 0 0.4em 0.5em 0.4em;box-sizing: border-box;padding-bottom: 0.4em;background-color: white;}#sk-container-id-1 div.sk-label label {font-family: monospace;font-weight: bold;display: inline-block;line-height: 1.2em;}#sk-container-id-1 div.sk-label-container {text-align: center;}#sk-container-id-1 div.sk-container {/* jupyter's `normalize.less` sets `[hidden] { display: none; }` but bootstrap.min.css set `[hidden] { display: none !important; }` so we also need the `!important` here to be able to override the default hidden behavior on the sphinx rendered scikit-learn.org. See: https://github.com/scikit-learn/scikit-learn/issues/21755 */display: inline-block !important;position: relative;}#sk-container-id-1 div.sk-text-repr-fallback {display: none;}</style><div id=\"sk-container-id-1\" class=\"sk-top-container\"><div class=\"sk-text-repr-fallback\"><pre>RandomForestClassifier(max_depth=10, n_estimators=150, random_state=42)</pre><b>In a Jupyter environment, please rerun this cell to show the HTML representation or trust the notebook. <br />On GitHub, the HTML representation is unable to render, please try loading this page with nbviewer.org.</b></div><div class=\"sk-container\" hidden><div class=\"sk-item\"><div class=\"sk-estimator sk-toggleable\"><input class=\"sk-toggleable__control sk-hidden--visually\" id=\"sk-estimator-id-1\" type=\"checkbox\" checked><label for=\"sk-estimator-id-1\" class=\"sk-toggleable__label sk-toggleable__label-arrow\">RandomForestClassifier</label><div class=\"sk-toggleable__content\"><pre>RandomForestClassifier(max_depth=10, n_estimators=150, random_state=42)</pre></div></div></div></div></div>"
      ],
      "text/plain": [
       "RandomForestClassifier(max_depth=10, n_estimators=150, random_state=42)"
      ]
     },
     "execution_count": 24,
     "metadata": {},
     "output_type": "execute_result"
    }
   ],
   "source": [
    "model.fit(X_train, y_train)"
   ]
  },
  {
   "cell_type": "code",
   "execution_count": 25,
   "id": "89f682d8",
   "metadata": {},
   "outputs": [],
   "source": [
    "# Step 7: Making Predictions"
   ]
  },
  {
   "cell_type": "code",
   "execution_count": 26,
   "id": "4c5540ae",
   "metadata": {},
   "outputs": [],
   "source": [
    "y_pred = model.predict(X_test)"
   ]
  },
  {
   "cell_type": "code",
   "execution_count": 27,
   "id": "b0345805",
   "metadata": {},
   "outputs": [],
   "source": [
    "# Step 8: Evaluating the Model"
   ]
  },
  {
   "cell_type": "code",
   "execution_count": 28,
   "id": "f8b331ab",
   "metadata": {},
   "outputs": [
    {
     "name": "stdout",
     "output_type": "stream",
     "text": [
      "Accuracy: 0.65\n"
     ]
    }
   ],
   "source": [
    "print(\"Accuracy:\", accuracy_score(y_test, y_pred))"
   ]
  },
  {
   "cell_type": "code",
   "execution_count": 29,
   "id": "a7379643",
   "metadata": {},
   "outputs": [
    {
     "name": "stdout",
     "output_type": "stream",
     "text": [
      "Classification Report:\n",
      "               precision    recall  f1-score   support\n",
      "\n",
      "           0       0.57      0.50      0.53         8\n",
      "           1       0.69      0.75      0.72        12\n",
      "\n",
      "    accuracy                           0.65        20\n",
      "   macro avg       0.63      0.62      0.63        20\n",
      "weighted avg       0.64      0.65      0.65        20\n",
      "\n"
     ]
    }
   ],
   "source": [
    "print(\"Classification Report:\\n\", classification_report(y_test, y_pred))"
   ]
  },
  {
   "cell_type": "code",
   "execution_count": 30,
   "id": "bd46aff1",
   "metadata": {},
   "outputs": [
    {
     "name": "stdout",
     "output_type": "stream",
     "text": [
      "Confusion Matrix:\n",
      " [[4 4]\n",
      " [3 9]]\n"
     ]
    }
   ],
   "source": [
    "print(\"Confusion Matrix:\\n\", confusion_matrix(y_test, y_pred))"
   ]
  },
  {
   "cell_type": "code",
   "execution_count": 31,
   "id": "9a886a12",
   "metadata": {},
   "outputs": [],
   "source": [
    "# Step 9: Data Visualization"
   ]
  },
  {
   "cell_type": "code",
   "execution_count": 32,
   "id": "f7e32834",
   "metadata": {},
   "outputs": [
    {
     "data": {
      "image/png": "[encoded data removed]",
      "text/plain": [
       "<Figure size 1000x600 with 2 Axes>"
      ]
     },
     "metadata": {},
     "output_type": "display_data"
    }
   ],
   "source": [
    "plt.figure(figsize=(10, 6))\n",
    "sns.heatmap(confusion_matrix(y_test, y_pred), annot=True, cmap='coolwarm', fmt='d')\n",
    "plt.xlabel('Predicted')\n",
    "plt.ylabel('Actual')\n",
    "plt.title('Confusion Matrix')\n",
    "plt.show()\n"
   ]
  },
  {
   "cell_type": "code",
   "execution_count": 33,
   "id": "087b844d",
   "metadata": {},
   "outputs": [],
   "source": [
    "# Step 10: Feature Importance"
   ]
  },
  {
   "cell_type": "code",
   "execution_count": 35,
   "id": "5c1332e2",
   "metadata": {},
   "outputs": [],
   "source": [
    "feature_importances = pd.Series(model.feature_importances_, index=X.columns).sort_values(ascending=False)"
   ]
  },
  {
   "cell_type": "code",
   "execution_count": 36,
   "id": "88e862df",
   "metadata": {},
   "outputs": [
    {
     "data": {
      "image/png": "[encoded data removed]",
      "text/plain": [
       "<Figure size 1000x500 with 1 Axes>"
      ]
     },
     "metadata": {},
     "output_type": "display_data"
    }
   ],
   "source": [
    "plt.figure(figsize=(10, 5))\n",
    "sns.barplot(x=feature_importances, y=feature_importances.index, palette='viridis')\n",
    "plt.xlabel('Feature Importance Score')\n",
    "plt.ylabel('Features')\n",
    "plt.title('Feature Importance Visualization')\n",
    "plt.show()\n"
   ]
  },
  {
   "cell_type": "code",
   "execution_count": null,
   "id": "e446330f",
   "metadata": {},
   "outputs": [],
   "source": []
  }
 ],
 "metadata": {
  "kernelspec": {
   "display_name": "Python 3 (ipykernel)",
   "language": "python",
   "name": "python3"
  },
  "language_info": {
   "codemirror_mode": {
    "name": "ipython",
    "version": 3
   },
   "file_extension": ".py",
   "mimetype": "text/x-python",
   "name": "python",
   "nbconvert_exporter": "python",
   "pygments_lexer": "ipython3",
   "version": "3.11.4"
  }
 },
 "nbformat": 4,
 "nbformat_minor": 5
}
